{
 "cells": [
  {
   "cell_type": "code",
   "id": "initial_id",
   "metadata": {
    "collapsed": true,
    "ExecuteTime": {
     "end_time": "2025-07-10T02:17:23.648013Z",
     "start_time": "2025-07-10T02:17:23.637576Z"
    }
   },
   "source": [
    "# Importing pandas library for data manipulation and analysis\n",
    "import pandas as pd\n"
   ],
   "outputs": [],
   "execution_count": 36
  },
  {
   "cell_type": "code",
   "id": "a261b424e994e1ac",
   "metadata": {
    "ExecuteTime": {
     "end_time": "2025-07-10T02:17:23.678507Z",
     "start_time": "2025-07-10T02:17:23.662452Z"
    }
   },
   "source": [
    "# Reading the student dataset from the given path\n",
    "df=pd.read_csv('/Users/vs/Downloads/Student Performance Predictor for EduQuest Coaching.csv')"
   ],
   "outputs": [],
   "execution_count": 37
  },
  {
   "cell_type": "code",
   "id": "5830658b03bbf0a3",
   "metadata": {
    "ExecuteTime": {
     "end_time": "2025-07-10T02:17:23.744153Z",
     "start_time": "2025-07-10T02:17:23.731940Z"
    }
   },
   "source": [
    "# Displaying the first few rows of the dataset to understand its structure\n",
    "df.head()"
   ],
   "outputs": [
    {
     "data": {
      "text/plain": [
       "   gender  age parental_education  family_income internet_access  \\\n",
       "0    Male   14            Diploma       29591.84             Yes   \n",
       "1    Male   16            Diploma       35222.46             Yes   \n",
       "2    Male   14            Diploma       29730.93             Yes   \n",
       "3  Female   15            Diploma       29074.09             Yes   \n",
       "4    Male   19           Graduate       42305.33             Yes   \n",
       "\n",
       "   previous_exam_score  attendance_rate  homework_completion_rate  \\\n",
       "0                93.25            91.01                     76.56   \n",
       "1                85.06            83.85                     64.82   \n",
       "2                79.93            86.71                     75.02   \n",
       "3                98.94            88.04                     55.50   \n",
       "4                64.54            61.22                     98.85   \n",
       "\n",
       "   class_participation_score  number_of_absences extra_curricular_involvement  \\\n",
       "0                       9.52                   1                     Moderate   \n",
       "1                       3.42                   2                     Moderate   \n",
       "2                       3.75                   1                          Low   \n",
       "3                       6.95                   0                     Moderate   \n",
       "4                       6.03                   5                     Moderate   \n",
       "\n",
       "   learning_hours_per_week tutor_support  final_exam_score  \n",
       "0                    12.08            No            100.00  \n",
       "1                    11.81           Yes             80.81  \n",
       "2                    11.08           Yes             77.96  \n",
       "3                     6.65           Yes             98.86  \n",
       "4                     9.26            No             64.64  "
      ],
      "text/html": [
       "<div>\n",
       "<style scoped>\n",
       "    .dataframe tbody tr th:only-of-type {\n",
       "        vertical-align: middle;\n",
       "    }\n",
       "\n",
       "    .dataframe tbody tr th {\n",
       "        vertical-align: top;\n",
       "    }\n",
       "\n",
       "    .dataframe thead th {\n",
       "        text-align: right;\n",
       "    }\n",
       "</style>\n",
       "<table border=\"1\" class=\"dataframe\">\n",
       "  <thead>\n",
       "    <tr style=\"text-align: right;\">\n",
       "      <th></th>\n",
       "      <th>gender</th>\n",
       "      <th>age</th>\n",
       "      <th>parental_education</th>\n",
       "      <th>family_income</th>\n",
       "      <th>internet_access</th>\n",
       "      <th>previous_exam_score</th>\n",
       "      <th>attendance_rate</th>\n",
       "      <th>homework_completion_rate</th>\n",
       "      <th>class_participation_score</th>\n",
       "      <th>number_of_absences</th>\n",
       "      <th>extra_curricular_involvement</th>\n",
       "      <th>learning_hours_per_week</th>\n",
       "      <th>tutor_support</th>\n",
       "      <th>final_exam_score</th>\n",
       "    </tr>\n",
       "  </thead>\n",
       "  <tbody>\n",
       "    <tr>\n",
       "      <th>0</th>\n",
       "      <td>Male</td>\n",
       "      <td>14</td>\n",
       "      <td>Diploma</td>\n",
       "      <td>29591.84</td>\n",
       "      <td>Yes</td>\n",
       "      <td>93.25</td>\n",
       "      <td>91.01</td>\n",
       "      <td>76.56</td>\n",
       "      <td>9.52</td>\n",
       "      <td>1</td>\n",
       "      <td>Moderate</td>\n",
       "      <td>12.08</td>\n",
       "      <td>No</td>\n",
       "      <td>100.00</td>\n",
       "    </tr>\n",
       "    <tr>\n",
       "      <th>1</th>\n",
       "      <td>Male</td>\n",
       "      <td>16</td>\n",
       "      <td>Diploma</td>\n",
       "      <td>35222.46</td>\n",
       "      <td>Yes</td>\n",
       "      <td>85.06</td>\n",
       "      <td>83.85</td>\n",
       "      <td>64.82</td>\n",
       "      <td>3.42</td>\n",
       "      <td>2</td>\n",
       "      <td>Moderate</td>\n",
       "      <td>11.81</td>\n",
       "      <td>Yes</td>\n",
       "      <td>80.81</td>\n",
       "    </tr>\n",
       "    <tr>\n",
       "      <th>2</th>\n",
       "      <td>Male</td>\n",
       "      <td>14</td>\n",
       "      <td>Diploma</td>\n",
       "      <td>29730.93</td>\n",
       "      <td>Yes</td>\n",
       "      <td>79.93</td>\n",
       "      <td>86.71</td>\n",
       "      <td>75.02</td>\n",
       "      <td>3.75</td>\n",
       "      <td>1</td>\n",
       "      <td>Low</td>\n",
       "      <td>11.08</td>\n",
       "      <td>Yes</td>\n",
       "      <td>77.96</td>\n",
       "    </tr>\n",
       "    <tr>\n",
       "      <th>3</th>\n",
       "      <td>Female</td>\n",
       "      <td>15</td>\n",
       "      <td>Diploma</td>\n",
       "      <td>29074.09</td>\n",
       "      <td>Yes</td>\n",
       "      <td>98.94</td>\n",
       "      <td>88.04</td>\n",
       "      <td>55.50</td>\n",
       "      <td>6.95</td>\n",
       "      <td>0</td>\n",
       "      <td>Moderate</td>\n",
       "      <td>6.65</td>\n",
       "      <td>Yes</td>\n",
       "      <td>98.86</td>\n",
       "    </tr>\n",
       "    <tr>\n",
       "      <th>4</th>\n",
       "      <td>Male</td>\n",
       "      <td>19</td>\n",
       "      <td>Graduate</td>\n",
       "      <td>42305.33</td>\n",
       "      <td>Yes</td>\n",
       "      <td>64.54</td>\n",
       "      <td>61.22</td>\n",
       "      <td>98.85</td>\n",
       "      <td>6.03</td>\n",
       "      <td>5</td>\n",
       "      <td>Moderate</td>\n",
       "      <td>9.26</td>\n",
       "      <td>No</td>\n",
       "      <td>64.64</td>\n",
       "    </tr>\n",
       "  </tbody>\n",
       "</table>\n",
       "</div>"
      ]
     },
     "execution_count": 38,
     "metadata": {},
     "output_type": "execute_result"
    }
   ],
   "execution_count": 38
  },
  {
   "cell_type": "code",
   "id": "797278cb6f2faf36",
   "metadata": {
    "ExecuteTime": {
     "end_time": "2025-07-10T02:17:23.898944Z",
     "start_time": "2025-07-10T02:17:23.886308Z"
    }
   },
   "source": [
    "# Checking the data types and missing values in the dataset\n",
    "df.info()"
   ],
   "outputs": [
    {
     "name": "stdout",
     "output_type": "stream",
     "text": [
      "<class 'pandas.core.frame.DataFrame'>\n",
      "RangeIndex: 1000 entries, 0 to 999\n",
      "Data columns (total 14 columns):\n",
      " #   Column                        Non-Null Count  Dtype  \n",
      "---  ------                        --------------  -----  \n",
      " 0   gender                        1000 non-null   object \n",
      " 1   age                           1000 non-null   int64  \n",
      " 2   parental_education            1000 non-null   object \n",
      " 3   family_income                 1000 non-null   float64\n",
      " 4   internet_access               1000 non-null   object \n",
      " 5   previous_exam_score           1000 non-null   float64\n",
      " 6   attendance_rate               1000 non-null   float64\n",
      " 7   homework_completion_rate      1000 non-null   float64\n",
      " 8   class_participation_score     1000 non-null   float64\n",
      " 9   number_of_absences            1000 non-null   int64  \n",
      " 10  extra_curricular_involvement  628 non-null    object \n",
      " 11  learning_hours_per_week       1000 non-null   float64\n",
      " 12  tutor_support                 1000 non-null   object \n",
      " 13  final_exam_score              1000 non-null   float64\n",
      "dtypes: float64(7), int64(2), object(5)\n",
      "memory usage: 109.5+ KB\n"
     ]
    }
   ],
   "execution_count": 39
  },
  {
   "cell_type": "code",
   "id": "41634f6e300d25ea",
   "metadata": {
    "ExecuteTime": {
     "end_time": "2025-07-10T02:17:24.001022Z",
     "start_time": "2025-07-10T02:17:23.994382Z"
    }
   },
   "source": "df=df.dropna()",
   "outputs": [],
   "execution_count": 40
  },
  {
   "cell_type": "code",
   "id": "1250ec50e4c51555",
   "metadata": {
    "ExecuteTime": {
     "end_time": "2025-07-10T02:17:24.241492Z",
     "start_time": "2025-07-10T02:17:24.222029Z"
    }
   },
   "source": [
    "# Checking the data types and missing values in the dataset\n",
    "df.info()"
   ],
   "outputs": [
    {
     "name": "stdout",
     "output_type": "stream",
     "text": [
      "<class 'pandas.core.frame.DataFrame'>\n",
      "Index: 628 entries, 0 to 999\n",
      "Data columns (total 14 columns):\n",
      " #   Column                        Non-Null Count  Dtype  \n",
      "---  ------                        --------------  -----  \n",
      " 0   gender                        628 non-null    object \n",
      " 1   age                           628 non-null    int64  \n",
      " 2   parental_education            628 non-null    object \n",
      " 3   family_income                 628 non-null    float64\n",
      " 4   internet_access               628 non-null    object \n",
      " 5   previous_exam_score           628 non-null    float64\n",
      " 6   attendance_rate               628 non-null    float64\n",
      " 7   homework_completion_rate      628 non-null    float64\n",
      " 8   class_participation_score     628 non-null    float64\n",
      " 9   number_of_absences            628 non-null    int64  \n",
      " 10  extra_curricular_involvement  628 non-null    object \n",
      " 11  learning_hours_per_week       628 non-null    float64\n",
      " 12  tutor_support                 628 non-null    object \n",
      " 13  final_exam_score              628 non-null    float64\n",
      "dtypes: float64(7), int64(2), object(5)\n",
      "memory usage: 73.6+ KB\n"
     ]
    }
   ],
   "execution_count": 41
  },
  {
   "cell_type": "code",
   "id": "73b35883d07d8797",
   "metadata": {
    "ExecuteTime": {
     "end_time": "2025-07-10T02:17:24.359520Z",
     "start_time": "2025-07-10T02:17:24.328825Z"
    }
   },
   "source": [
    "# Generating statistical summary of the dataset\n",
    "df.describe().shape"
   ],
   "outputs": [
    {
     "data": {
      "text/plain": [
       "(8, 9)"
      ]
     },
     "execution_count": 42,
     "metadata": {},
     "output_type": "execute_result"
    }
   ],
   "execution_count": 42
  },
  {
   "cell_type": "code",
   "id": "78018c4a96087b91",
   "metadata": {
    "ExecuteTime": {
     "end_time": "2025-07-10T02:17:24.425804Z",
     "start_time": "2025-07-10T02:17:24.416865Z"
    }
   },
   "source": [
    "# df['gender'].value_counts()\n",
    "df['gender'].value_counts()"
   ],
   "outputs": [
    {
     "data": {
      "text/plain": [
       "gender\n",
       "Female    316\n",
       "Male      312\n",
       "Name: count, dtype: int64"
      ]
     },
     "execution_count": 43,
     "metadata": {},
     "output_type": "execute_result"
    }
   ],
   "execution_count": 43
  },
  {
   "cell_type": "code",
   "id": "b34b2f12e2d87dde",
   "metadata": {
    "ExecuteTime": {
     "end_time": "2025-07-10T02:17:24.521845Z",
     "start_time": "2025-07-10T02:17:24.515925Z"
    }
   },
   "source": [
    "# df['gender'] = df['gender'].replace({'Male': 0, 'Female': 1})\n",
    "df['gender'] = df['gender'].replace({'Male': 0, 'Female': 1})"
   ],
   "outputs": [
    {
     "name": "stderr",
     "output_type": "stream",
     "text": [
      "/var/folders/ql/qndvqj2x6msdb4wbcsbms1rc0000gn/T/ipykernel_19917/1561592243.py:2: FutureWarning: Downcasting behavior in `replace` is deprecated and will be removed in a future version. To retain the old behavior, explicitly call `result.infer_objects(copy=False)`. To opt-in to the future behavior, set `pd.set_option('future.no_silent_downcasting', True)`\n",
      "  df['gender'] = df['gender'].replace({'Male': 0, 'Female': 1})\n"
     ]
    }
   ],
   "execution_count": 44
  },
  {
   "cell_type": "code",
   "id": "fc183f8dc899f476",
   "metadata": {
    "ExecuteTime": {
     "end_time": "2025-07-10T02:17:24.608809Z",
     "start_time": "2025-07-10T02:17:24.602763Z"
    }
   },
   "source": [
    "# df['gender'].value_counts()\n",
    "df['gender'].value_counts()"
   ],
   "outputs": [
    {
     "data": {
      "text/plain": [
       "gender\n",
       "1    316\n",
       "0    312\n",
       "Name: count, dtype: int64"
      ]
     },
     "execution_count": 45,
     "metadata": {},
     "output_type": "execute_result"
    }
   ],
   "execution_count": 45
  },
  {
   "cell_type": "code",
   "id": "b718b21c0f4a4c79",
   "metadata": {
    "ExecuteTime": {
     "end_time": "2025-07-10T02:17:24.759454Z",
     "start_time": "2025-07-10T02:17:24.746946Z"
    }
   },
   "source": [
    "# Checking the data types and missing values in the dataset\n",
    "df.info()"
   ],
   "outputs": [
    {
     "name": "stdout",
     "output_type": "stream",
     "text": [
      "<class 'pandas.core.frame.DataFrame'>\n",
      "Index: 628 entries, 0 to 999\n",
      "Data columns (total 14 columns):\n",
      " #   Column                        Non-Null Count  Dtype  \n",
      "---  ------                        --------------  -----  \n",
      " 0   gender                        628 non-null    int64  \n",
      " 1   age                           628 non-null    int64  \n",
      " 2   parental_education            628 non-null    object \n",
      " 3   family_income                 628 non-null    float64\n",
      " 4   internet_access               628 non-null    object \n",
      " 5   previous_exam_score           628 non-null    float64\n",
      " 6   attendance_rate               628 non-null    float64\n",
      " 7   homework_completion_rate      628 non-null    float64\n",
      " 8   class_participation_score     628 non-null    float64\n",
      " 9   number_of_absences            628 non-null    int64  \n",
      " 10  extra_curricular_involvement  628 non-null    object \n",
      " 11  learning_hours_per_week       628 non-null    float64\n",
      " 12  tutor_support                 628 non-null    object \n",
      " 13  final_exam_score              628 non-null    float64\n",
      "dtypes: float64(7), int64(3), object(4)\n",
      "memory usage: 73.6+ KB\n"
     ]
    }
   ],
   "execution_count": 46
  },
  {
   "cell_type": "code",
   "id": "2de740f21d284caa",
   "metadata": {
    "ExecuteTime": {
     "end_time": "2025-07-10T02:17:24.862137Z",
     "start_time": "2025-07-10T02:17:24.855091Z"
    }
   },
   "source": [
    "# df['parental_education'].value_counts()\n",
    "df['parental_education'].value_counts()"
   ],
   "outputs": [
    {
     "data": {
      "text/plain": [
       "parental_education\n",
       "Diploma         198\n",
       "Graduate        182\n",
       "High School     181\n",
       "Postgraduate     67\n",
       "Name: count, dtype: int64"
      ]
     },
     "execution_count": 47,
     "metadata": {},
     "output_type": "execute_result"
    }
   ],
   "execution_count": 47
  },
  {
   "cell_type": "code",
   "id": "304c8f04393336ad",
   "metadata": {
    "ExecuteTime": {
     "end_time": "2025-07-10T02:17:25.024342Z",
     "start_time": "2025-07-10T02:17:25.018005Z"
    }
   },
   "source": [
    "# df['parental_education'] = df['parental_education'].replace({'High School': 0, 'Diploma': 1, 'Graduate': 2, 'Postgraduate': 3})\n",
    "df['parental_education'] = df['parental_education'].replace({'High School': 0, 'Diploma': 1, 'Graduate': 2, 'Postgraduate': 3})"
   ],
   "outputs": [
    {
     "name": "stderr",
     "output_type": "stream",
     "text": [
      "/var/folders/ql/qndvqj2x6msdb4wbcsbms1rc0000gn/T/ipykernel_19917/2438722901.py:2: FutureWarning: Downcasting behavior in `replace` is deprecated and will be removed in a future version. To retain the old behavior, explicitly call `result.infer_objects(copy=False)`. To opt-in to the future behavior, set `pd.set_option('future.no_silent_downcasting', True)`\n",
      "  df['parental_education'] = df['parental_education'].replace({'High School': 0, 'Diploma': 1, 'Graduate': 2, 'Postgraduate': 3})\n"
     ]
    }
   ],
   "execution_count": 48
  },
  {
   "cell_type": "code",
   "id": "5416164371bf7195",
   "metadata": {
    "ExecuteTime": {
     "end_time": "2025-07-10T02:17:25.205694Z",
     "start_time": "2025-07-10T02:17:25.200040Z"
    }
   },
   "source": [
    "# df['parental_education'].value_counts()\n",
    "df['parental_education'].value_counts()"
   ],
   "outputs": [
    {
     "data": {
      "text/plain": [
       "parental_education\n",
       "1    198\n",
       "2    182\n",
       "0    181\n",
       "3     67\n",
       "Name: count, dtype: int64"
      ]
     },
     "execution_count": 49,
     "metadata": {},
     "output_type": "execute_result"
    }
   ],
   "execution_count": 49
  },
  {
   "cell_type": "code",
   "id": "47d2e9a3211cee02",
   "metadata": {
    "ExecuteTime": {
     "end_time": "2025-07-10T02:17:25.328013Z",
     "start_time": "2025-07-10T02:17:25.314832Z"
    }
   },
   "source": [
    "# Checking the data types and missing values in the dataset\n",
    "df.info()"
   ],
   "outputs": [
    {
     "name": "stdout",
     "output_type": "stream",
     "text": [
      "<class 'pandas.core.frame.DataFrame'>\n",
      "Index: 628 entries, 0 to 999\n",
      "Data columns (total 14 columns):\n",
      " #   Column                        Non-Null Count  Dtype  \n",
      "---  ------                        --------------  -----  \n",
      " 0   gender                        628 non-null    int64  \n",
      " 1   age                           628 non-null    int64  \n",
      " 2   parental_education            628 non-null    int64  \n",
      " 3   family_income                 628 non-null    float64\n",
      " 4   internet_access               628 non-null    object \n",
      " 5   previous_exam_score           628 non-null    float64\n",
      " 6   attendance_rate               628 non-null    float64\n",
      " 7   homework_completion_rate      628 non-null    float64\n",
      " 8   class_participation_score     628 non-null    float64\n",
      " 9   number_of_absences            628 non-null    int64  \n",
      " 10  extra_curricular_involvement  628 non-null    object \n",
      " 11  learning_hours_per_week       628 non-null    float64\n",
      " 12  tutor_support                 628 non-null    object \n",
      " 13  final_exam_score              628 non-null    float64\n",
      "dtypes: float64(7), int64(4), object(3)\n",
      "memory usage: 73.6+ KB\n"
     ]
    }
   ],
   "execution_count": 50
  },
  {
   "cell_type": "code",
   "id": "f4a5ad987c2103e5",
   "metadata": {
    "ExecuteTime": {
     "end_time": "2025-07-10T02:17:25.485446Z",
     "start_time": "2025-07-10T02:17:25.476687Z"
    }
   },
   "source": [
    "# df['internet_access'].value_counts()\n",
    "df['internet_access'].value_counts()"
   ],
   "outputs": [
    {
     "data": {
      "text/plain": [
       "internet_access\n",
       "Yes    543\n",
       "No      85\n",
       "Name: count, dtype: int64"
      ]
     },
     "execution_count": 51,
     "metadata": {},
     "output_type": "execute_result"
    }
   ],
   "execution_count": 51
  },
  {
   "cell_type": "code",
   "id": "12c92bcf0108630c",
   "metadata": {
    "ExecuteTime": {
     "end_time": "2025-07-10T02:17:25.618168Z",
     "start_time": "2025-07-10T02:17:25.610242Z"
    }
   },
   "source": [
    "# df['internet_access'] = df['internet_access'].replace({'No': 0, 'Yes': 1})\n",
    "df['internet_access'] = df['internet_access'].replace({'No': 0, 'Yes': 1})"
   ],
   "outputs": [
    {
     "name": "stderr",
     "output_type": "stream",
     "text": [
      "/var/folders/ql/qndvqj2x6msdb4wbcsbms1rc0000gn/T/ipykernel_19917/2003912879.py:2: FutureWarning: Downcasting behavior in `replace` is deprecated and will be removed in a future version. To retain the old behavior, explicitly call `result.infer_objects(copy=False)`. To opt-in to the future behavior, set `pd.set_option('future.no_silent_downcasting', True)`\n",
      "  df['internet_access'] = df['internet_access'].replace({'No': 0, 'Yes': 1})\n"
     ]
    }
   ],
   "execution_count": 52
  },
  {
   "cell_type": "code",
   "id": "ef9af315ba6d7170",
   "metadata": {
    "ExecuteTime": {
     "end_time": "2025-07-10T02:17:25.780518Z",
     "start_time": "2025-07-10T02:17:25.773164Z"
    }
   },
   "source": [
    "# df['internet_access'].value_counts()\n",
    "df['internet_access'].value_counts()"
   ],
   "outputs": [
    {
     "data": {
      "text/plain": [
       "internet_access\n",
       "1    543\n",
       "0     85\n",
       "Name: count, dtype: int64"
      ]
     },
     "execution_count": 53,
     "metadata": {},
     "output_type": "execute_result"
    }
   ],
   "execution_count": 53
  },
  {
   "cell_type": "code",
   "id": "3ebda066fa517061",
   "metadata": {
    "ExecuteTime": {
     "end_time": "2025-07-10T02:17:25.924889Z",
     "start_time": "2025-07-10T02:17:25.912443Z"
    }
   },
   "source": [
    "# Checking the data types and missing values in the dataset\n",
    "df.info()"
   ],
   "outputs": [
    {
     "name": "stdout",
     "output_type": "stream",
     "text": [
      "<class 'pandas.core.frame.DataFrame'>\n",
      "Index: 628 entries, 0 to 999\n",
      "Data columns (total 14 columns):\n",
      " #   Column                        Non-Null Count  Dtype  \n",
      "---  ------                        --------------  -----  \n",
      " 0   gender                        628 non-null    int64  \n",
      " 1   age                           628 non-null    int64  \n",
      " 2   parental_education            628 non-null    int64  \n",
      " 3   family_income                 628 non-null    float64\n",
      " 4   internet_access               628 non-null    int64  \n",
      " 5   previous_exam_score           628 non-null    float64\n",
      " 6   attendance_rate               628 non-null    float64\n",
      " 7   homework_completion_rate      628 non-null    float64\n",
      " 8   class_participation_score     628 non-null    float64\n",
      " 9   number_of_absences            628 non-null    int64  \n",
      " 10  extra_curricular_involvement  628 non-null    object \n",
      " 11  learning_hours_per_week       628 non-null    float64\n",
      " 12  tutor_support                 628 non-null    object \n",
      " 13  final_exam_score              628 non-null    float64\n",
      "dtypes: float64(7), int64(5), object(2)\n",
      "memory usage: 73.6+ KB\n"
     ]
    }
   ],
   "execution_count": 54
  },
  {
   "cell_type": "code",
   "id": "4557d6ce31867d34",
   "metadata": {
    "ExecuteTime": {
     "end_time": "2025-07-10T02:17:26.009943Z",
     "start_time": "2025-07-10T02:17:26.002484Z"
    }
   },
   "source": [
    "# df['extra_curricular_involvement'].value_counts()\n",
    "df['extra_curricular_involvement'].value_counts()"
   ],
   "outputs": [
    {
     "data": {
      "text/plain": [
       "extra_curricular_involvement\n",
       "Low         311\n",
       "Moderate    224\n",
       "High         93\n",
       "Name: count, dtype: int64"
      ]
     },
     "execution_count": 55,
     "metadata": {},
     "output_type": "execute_result"
    }
   ],
   "execution_count": 55
  },
  {
   "cell_type": "code",
   "id": "bce15a1162014a29",
   "metadata": {
    "ExecuteTime": {
     "end_time": "2025-07-10T02:17:26.143353Z",
     "start_time": "2025-07-10T02:17:26.137736Z"
    }
   },
   "source": [
    "# df['extra_curricular_involvement'] = df['extra_curricular_involvement'].replace({'Low': 0, 'Moderate': 1, 'High': 2})\n",
    "df['extra_curricular_involvement'] = df['extra_curricular_involvement'].replace({'Low': 0, 'Moderate': 1, 'High': 2})"
   ],
   "outputs": [
    {
     "name": "stderr",
     "output_type": "stream",
     "text": [
      "/var/folders/ql/qndvqj2x6msdb4wbcsbms1rc0000gn/T/ipykernel_19917/1220002719.py:2: FutureWarning: Downcasting behavior in `replace` is deprecated and will be removed in a future version. To retain the old behavior, explicitly call `result.infer_objects(copy=False)`. To opt-in to the future behavior, set `pd.set_option('future.no_silent_downcasting', True)`\n",
      "  df['extra_curricular_involvement'] = df['extra_curricular_involvement'].replace({'Low': 0, 'Moderate': 1, 'High': 2})\n"
     ]
    }
   ],
   "execution_count": 56
  },
  {
   "cell_type": "code",
   "id": "70edabf8c9d66752",
   "metadata": {
    "ExecuteTime": {
     "end_time": "2025-07-10T02:17:26.250486Z",
     "start_time": "2025-07-10T02:17:26.244777Z"
    }
   },
   "source": [
    "# df['extra_curricular_involvement'].value_counts()\n",
    "df['extra_curricular_involvement'].value_counts()"
   ],
   "outputs": [
    {
     "data": {
      "text/plain": [
       "extra_curricular_involvement\n",
       "0    311\n",
       "1    224\n",
       "2     93\n",
       "Name: count, dtype: int64"
      ]
     },
     "execution_count": 57,
     "metadata": {},
     "output_type": "execute_result"
    }
   ],
   "execution_count": 57
  },
  {
   "cell_type": "code",
   "id": "395d8682581f3ade",
   "metadata": {
    "ExecuteTime": {
     "end_time": "2025-07-10T02:17:26.384870Z",
     "start_time": "2025-07-10T02:17:26.376959Z"
    }
   },
   "source": [
    "# Checking the data types and missing values in the dataset\n",
    "df.info()"
   ],
   "outputs": [
    {
     "name": "stdout",
     "output_type": "stream",
     "text": [
      "<class 'pandas.core.frame.DataFrame'>\n",
      "Index: 628 entries, 0 to 999\n",
      "Data columns (total 14 columns):\n",
      " #   Column                        Non-Null Count  Dtype  \n",
      "---  ------                        --------------  -----  \n",
      " 0   gender                        628 non-null    int64  \n",
      " 1   age                           628 non-null    int64  \n",
      " 2   parental_education            628 non-null    int64  \n",
      " 3   family_income                 628 non-null    float64\n",
      " 4   internet_access               628 non-null    int64  \n",
      " 5   previous_exam_score           628 non-null    float64\n",
      " 6   attendance_rate               628 non-null    float64\n",
      " 7   homework_completion_rate      628 non-null    float64\n",
      " 8   class_participation_score     628 non-null    float64\n",
      " 9   number_of_absences            628 non-null    int64  \n",
      " 10  extra_curricular_involvement  628 non-null    int64  \n",
      " 11  learning_hours_per_week       628 non-null    float64\n",
      " 12  tutor_support                 628 non-null    object \n",
      " 13  final_exam_score              628 non-null    float64\n",
      "dtypes: float64(7), int64(6), object(1)\n",
      "memory usage: 73.6+ KB\n"
     ]
    }
   ],
   "execution_count": 58
  },
  {
   "cell_type": "code",
   "id": "63938029fdb37753",
   "metadata": {
    "ExecuteTime": {
     "end_time": "2025-07-10T02:17:26.543647Z",
     "start_time": "2025-07-10T02:17:26.535740Z"
    }
   },
   "source": [
    "# df['tutor_support'].value_counts()\n",
    "df['tutor_support'].value_counts()"
   ],
   "outputs": [
    {
     "data": {
      "text/plain": [
       "tutor_support\n",
       "Yes    348\n",
       "No     280\n",
       "Name: count, dtype: int64"
      ]
     },
     "execution_count": 59,
     "metadata": {},
     "output_type": "execute_result"
    }
   ],
   "execution_count": 59
  },
  {
   "cell_type": "code",
   "id": "3808a07cb2c5aa2f",
   "metadata": {
    "ExecuteTime": {
     "end_time": "2025-07-10T02:17:26.683581Z",
     "start_time": "2025-07-10T02:17:26.676932Z"
    }
   },
   "source": [
    "# df['tutor_support'] = df['tutor_support'].replace({'No': 0, 'Yes': 1})\n",
    "df['tutor_support'] = df['tutor_support'].replace({'No': 0, 'Yes': 1})"
   ],
   "outputs": [
    {
     "name": "stderr",
     "output_type": "stream",
     "text": [
      "/var/folders/ql/qndvqj2x6msdb4wbcsbms1rc0000gn/T/ipykernel_19917/3118987059.py:2: FutureWarning: Downcasting behavior in `replace` is deprecated and will be removed in a future version. To retain the old behavior, explicitly call `result.infer_objects(copy=False)`. To opt-in to the future behavior, set `pd.set_option('future.no_silent_downcasting', True)`\n",
      "  df['tutor_support'] = df['tutor_support'].replace({'No': 0, 'Yes': 1})\n"
     ]
    }
   ],
   "execution_count": 60
  },
  {
   "cell_type": "code",
   "id": "87370d163d434d6b",
   "metadata": {
    "ExecuteTime": {
     "end_time": "2025-07-10T02:17:26.890256Z",
     "start_time": "2025-07-10T02:17:26.884048Z"
    }
   },
   "source": [
    "# df['tutor_support'].value_counts()\n",
    "df['tutor_support'].value_counts()"
   ],
   "outputs": [
    {
     "data": {
      "text/plain": [
       "tutor_support\n",
       "1    348\n",
       "0    280\n",
       "Name: count, dtype: int64"
      ]
     },
     "execution_count": 61,
     "metadata": {},
     "output_type": "execute_result"
    }
   ],
   "execution_count": 61
  },
  {
   "cell_type": "code",
   "id": "17cddad972a5a00d",
   "metadata": {
    "ExecuteTime": {
     "end_time": "2025-07-10T02:17:27.086876Z",
     "start_time": "2025-07-10T02:17:27.062627Z"
    }
   },
   "source": [
    "# Checking the data types and missing values in the dataset\n",
    "df.info()"
   ],
   "outputs": [
    {
     "name": "stdout",
     "output_type": "stream",
     "text": [
      "<class 'pandas.core.frame.DataFrame'>\n",
      "Index: 628 entries, 0 to 999\n",
      "Data columns (total 14 columns):\n",
      " #   Column                        Non-Null Count  Dtype  \n",
      "---  ------                        --------------  -----  \n",
      " 0   gender                        628 non-null    int64  \n",
      " 1   age                           628 non-null    int64  \n",
      " 2   parental_education            628 non-null    int64  \n",
      " 3   family_income                 628 non-null    float64\n",
      " 4   internet_access               628 non-null    int64  \n",
      " 5   previous_exam_score           628 non-null    float64\n",
      " 6   attendance_rate               628 non-null    float64\n",
      " 7   homework_completion_rate      628 non-null    float64\n",
      " 8   class_participation_score     628 non-null    float64\n",
      " 9   number_of_absences            628 non-null    int64  \n",
      " 10  extra_curricular_involvement  628 non-null    int64  \n",
      " 11  learning_hours_per_week       628 non-null    float64\n",
      " 12  tutor_support                 628 non-null    int64  \n",
      " 13  final_exam_score              628 non-null    float64\n",
      "dtypes: float64(7), int64(7)\n",
      "memory usage: 73.6 KB\n"
     ]
    }
   ],
   "execution_count": 62
  },
  {
   "cell_type": "code",
   "id": "6a16863c8bcd5571",
   "metadata": {
    "ExecuteTime": {
     "end_time": "2025-07-10T02:17:27.223521Z",
     "start_time": "2025-07-10T02:17:27.215403Z"
    }
   },
   "source": [
    "# df.columns\n",
    "df.columns"
   ],
   "outputs": [
    {
     "data": {
      "text/plain": [
       "Index(['gender', 'age', 'parental_education', 'family_income',\n",
       "       'internet_access', 'previous_exam_score', 'attendance_rate',\n",
       "       'homework_completion_rate', 'class_participation_score',\n",
       "       'number_of_absences', 'extra_curricular_involvement',\n",
       "       'learning_hours_per_week', 'tutor_support', 'final_exam_score'],\n",
       "      dtype='object')"
      ]
     },
     "execution_count": 63,
     "metadata": {},
     "output_type": "execute_result"
    }
   ],
   "execution_count": 63
  },
  {
   "cell_type": "code",
   "id": "6c1e198e143f5a7d",
   "metadata": {
    "ExecuteTime": {
     "end_time": "2025-07-10T02:17:27.325037Z",
     "start_time": "2025-07-10T02:17:27.316256Z"
    }
   },
   "source": [
    "y = df['final_exam_score']\n",
    "X = df[['gender', 'age', 'parental_education', 'family_income',\n",
    "       'internet_access', 'previous_exam_score', 'attendance_rate',\n",
    "       'homework_completion_rate', 'class_participation_score',\n",
    "       'number_of_absences', 'extra_curricular_involvement',\n",
    "       'learning_hours_per_week', 'tutor_support']]"
   ],
   "outputs": [],
   "execution_count": 64
  },
  {
   "cell_type": "code",
   "id": "88d022586acf02b",
   "metadata": {
    "ExecuteTime": {
     "end_time": "2025-07-10T02:17:27.393260Z",
     "start_time": "2025-07-10T02:17:27.382203Z"
    }
   },
   "source": [
    "# Splitting data into training and testing sets\n",
    "from sklearn.model_selection import train_test_split\n",
    "# Splitting data into training and testing sets\n",
    "X_train, X_test, y_train, y_test = train_test_split(X, y, random_state=2529)"
   ],
   "outputs": [],
   "execution_count": 65
  },
  {
   "cell_type": "code",
   "id": "541a386f3697f678",
   "metadata": {
    "ExecuteTime": {
     "end_time": "2025-07-10T02:17:27.452388Z",
     "start_time": "2025-07-10T02:17:27.444269Z"
    }
   },
   "source": [
    "# from sklearn.linear_model import LinearRegression\n",
    "from sklearn.linear_model import LinearRegression\n",
    "# model = LinearRegression()\n",
    "model = LinearRegression()"
   ],
   "outputs": [],
   "execution_count": 66
  },
  {
   "cell_type": "code",
   "id": "e69207878afc2517",
   "metadata": {
    "ExecuteTime": {
     "end_time": "2025-07-10T02:17:27.539357Z",
     "start_time": "2025-07-10T02:17:27.505376Z"
    }
   },
   "source": [
    "# model.fit(X_train, y_train)\n",
    "model.fit(X_train, y_train)"
   ],
   "outputs": [
    {
     "data": {
      "text/plain": [
       "LinearRegression()"
      ],
      "text/html": [
       "<style>#sk-container-id-2 {\n",
       "  /* Definition of color scheme common for light and dark mode */\n",
       "  --sklearn-color-text: #000;\n",
       "  --sklearn-color-text-muted: #666;\n",
       "  --sklearn-color-line: gray;\n",
       "  /* Definition of color scheme for unfitted estimators */\n",
       "  --sklearn-color-unfitted-level-0: #fff5e6;\n",
       "  --sklearn-color-unfitted-level-1: #f6e4d2;\n",
       "  --sklearn-color-unfitted-level-2: #ffe0b3;\n",
       "  --sklearn-color-unfitted-level-3: chocolate;\n",
       "  /* Definition of color scheme for fitted estimators */\n",
       "  --sklearn-color-fitted-level-0: #f0f8ff;\n",
       "  --sklearn-color-fitted-level-1: #d4ebff;\n",
       "  --sklearn-color-fitted-level-2: #b3dbfd;\n",
       "  --sklearn-color-fitted-level-3: cornflowerblue;\n",
       "\n",
       "  /* Specific color for light theme */\n",
       "  --sklearn-color-text-on-default-background: var(--sg-text-color, var(--theme-code-foreground, var(--jp-content-font-color1, black)));\n",
       "  --sklearn-color-background: var(--sg-background-color, var(--theme-background, var(--jp-layout-color0, white)));\n",
       "  --sklearn-color-border-box: var(--sg-text-color, var(--theme-code-foreground, var(--jp-content-font-color1, black)));\n",
       "  --sklearn-color-icon: #696969;\n",
       "\n",
       "  @media (prefers-color-scheme: dark) {\n",
       "    /* Redefinition of color scheme for dark theme */\n",
       "    --sklearn-color-text-on-default-background: var(--sg-text-color, var(--theme-code-foreground, var(--jp-content-font-color1, white)));\n",
       "    --sklearn-color-background: var(--sg-background-color, var(--theme-background, var(--jp-layout-color0, #111)));\n",
       "    --sklearn-color-border-box: var(--sg-text-color, var(--theme-code-foreground, var(--jp-content-font-color1, white)));\n",
       "    --sklearn-color-icon: #878787;\n",
       "  }\n",
       "}\n",
       "\n",
       "#sk-container-id-2 {\n",
       "  color: var(--sklearn-color-text);\n",
       "}\n",
       "\n",
       "#sk-container-id-2 pre {\n",
       "  padding: 0;\n",
       "}\n",
       "\n",
       "#sk-container-id-2 input.sk-hidden--visually {\n",
       "  border: 0;\n",
       "  clip: rect(1px 1px 1px 1px);\n",
       "  clip: rect(1px, 1px, 1px, 1px);\n",
       "  height: 1px;\n",
       "  margin: -1px;\n",
       "  overflow: hidden;\n",
       "  padding: 0;\n",
       "  position: absolute;\n",
       "  width: 1px;\n",
       "}\n",
       "\n",
       "#sk-container-id-2 div.sk-dashed-wrapped {\n",
       "  border: 1px dashed var(--sklearn-color-line);\n",
       "  margin: 0 0.4em 0.5em 0.4em;\n",
       "  box-sizing: border-box;\n",
       "  padding-bottom: 0.4em;\n",
       "  background-color: var(--sklearn-color-background);\n",
       "}\n",
       "\n",
       "#sk-container-id-2 div.sk-container {\n",
       "  /* jupyter's `normalize.less` sets `[hidden] { display: none; }`\n",
       "     but bootstrap.min.css set `[hidden] { display: none !important; }`\n",
       "     so we also need the `!important` here to be able to override the\n",
       "     default hidden behavior on the sphinx rendered scikit-learn.org.\n",
       "     See: https://github.com/scikit-learn/scikit-learn/issues/21755 */\n",
       "  display: inline-block !important;\n",
       "  position: relative;\n",
       "}\n",
       "\n",
       "#sk-container-id-2 div.sk-text-repr-fallback {\n",
       "  display: none;\n",
       "}\n",
       "\n",
       "div.sk-parallel-item,\n",
       "div.sk-serial,\n",
       "div.sk-item {\n",
       "  /* draw centered vertical line to link estimators */\n",
       "  background-image: linear-gradient(var(--sklearn-color-text-on-default-background), var(--sklearn-color-text-on-default-background));\n",
       "  background-size: 2px 100%;\n",
       "  background-repeat: no-repeat;\n",
       "  background-position: center center;\n",
       "}\n",
       "\n",
       "/* Parallel-specific style estimator block */\n",
       "\n",
       "#sk-container-id-2 div.sk-parallel-item::after {\n",
       "  content: \"\";\n",
       "  width: 100%;\n",
       "  border-bottom: 2px solid var(--sklearn-color-text-on-default-background);\n",
       "  flex-grow: 1;\n",
       "}\n",
       "\n",
       "#sk-container-id-2 div.sk-parallel {\n",
       "  display: flex;\n",
       "  align-items: stretch;\n",
       "  justify-content: center;\n",
       "  background-color: var(--sklearn-color-background);\n",
       "  position: relative;\n",
       "}\n",
       "\n",
       "#sk-container-id-2 div.sk-parallel-item {\n",
       "  display: flex;\n",
       "  flex-direction: column;\n",
       "}\n",
       "\n",
       "#sk-container-id-2 div.sk-parallel-item:first-child::after {\n",
       "  align-self: flex-end;\n",
       "  width: 50%;\n",
       "}\n",
       "\n",
       "#sk-container-id-2 div.sk-parallel-item:last-child::after {\n",
       "  align-self: flex-start;\n",
       "  width: 50%;\n",
       "}\n",
       "\n",
       "#sk-container-id-2 div.sk-parallel-item:only-child::after {\n",
       "  width: 0;\n",
       "}\n",
       "\n",
       "/* Serial-specific style estimator block */\n",
       "\n",
       "#sk-container-id-2 div.sk-serial {\n",
       "  display: flex;\n",
       "  flex-direction: column;\n",
       "  align-items: center;\n",
       "  background-color: var(--sklearn-color-background);\n",
       "  padding-right: 1em;\n",
       "  padding-left: 1em;\n",
       "}\n",
       "\n",
       "\n",
       "/* Toggleable style: style used for estimator/Pipeline/ColumnTransformer box that is\n",
       "clickable and can be expanded/collapsed.\n",
       "- Pipeline and ColumnTransformer use this feature and define the default style\n",
       "- Estimators will overwrite some part of the style using the `sk-estimator` class\n",
       "*/\n",
       "\n",
       "/* Pipeline and ColumnTransformer style (default) */\n",
       "\n",
       "#sk-container-id-2 div.sk-toggleable {\n",
       "  /* Default theme specific background. It is overwritten whether we have a\n",
       "  specific estimator or a Pipeline/ColumnTransformer */\n",
       "  background-color: var(--sklearn-color-background);\n",
       "}\n",
       "\n",
       "/* Toggleable label */\n",
       "#sk-container-id-2 label.sk-toggleable__label {\n",
       "  cursor: pointer;\n",
       "  display: flex;\n",
       "  width: 100%;\n",
       "  margin-bottom: 0;\n",
       "  padding: 0.5em;\n",
       "  box-sizing: border-box;\n",
       "  text-align: center;\n",
       "  align-items: start;\n",
       "  justify-content: space-between;\n",
       "  gap: 0.5em;\n",
       "}\n",
       "\n",
       "#sk-container-id-2 label.sk-toggleable__label .caption {\n",
       "  font-size: 0.6rem;\n",
       "  font-weight: lighter;\n",
       "  color: var(--sklearn-color-text-muted);\n",
       "}\n",
       "\n",
       "#sk-container-id-2 label.sk-toggleable__label-arrow:before {\n",
       "  /* Arrow on the left of the label */\n",
       "  content: \"▸\";\n",
       "  float: left;\n",
       "  margin-right: 0.25em;\n",
       "  color: var(--sklearn-color-icon);\n",
       "}\n",
       "\n",
       "#sk-container-id-2 label.sk-toggleable__label-arrow:hover:before {\n",
       "  color: var(--sklearn-color-text);\n",
       "}\n",
       "\n",
       "/* Toggleable content - dropdown */\n",
       "\n",
       "#sk-container-id-2 div.sk-toggleable__content {\n",
       "  max-height: 0;\n",
       "  max-width: 0;\n",
       "  overflow: hidden;\n",
       "  text-align: left;\n",
       "  /* unfitted */\n",
       "  background-color: var(--sklearn-color-unfitted-level-0);\n",
       "}\n",
       "\n",
       "#sk-container-id-2 div.sk-toggleable__content.fitted {\n",
       "  /* fitted */\n",
       "  background-color: var(--sklearn-color-fitted-level-0);\n",
       "}\n",
       "\n",
       "#sk-container-id-2 div.sk-toggleable__content pre {\n",
       "  margin: 0.2em;\n",
       "  border-radius: 0.25em;\n",
       "  color: var(--sklearn-color-text);\n",
       "  /* unfitted */\n",
       "  background-color: var(--sklearn-color-unfitted-level-0);\n",
       "}\n",
       "\n",
       "#sk-container-id-2 div.sk-toggleable__content.fitted pre {\n",
       "  /* unfitted */\n",
       "  background-color: var(--sklearn-color-fitted-level-0);\n",
       "}\n",
       "\n",
       "#sk-container-id-2 input.sk-toggleable__control:checked~div.sk-toggleable__content {\n",
       "  /* Expand drop-down */\n",
       "  max-height: 200px;\n",
       "  max-width: 100%;\n",
       "  overflow: auto;\n",
       "}\n",
       "\n",
       "#sk-container-id-2 input.sk-toggleable__control:checked~label.sk-toggleable__label-arrow:before {\n",
       "  content: \"▾\";\n",
       "}\n",
       "\n",
       "/* Pipeline/ColumnTransformer-specific style */\n",
       "\n",
       "#sk-container-id-2 div.sk-label input.sk-toggleable__control:checked~label.sk-toggleable__label {\n",
       "  color: var(--sklearn-color-text);\n",
       "  background-color: var(--sklearn-color-unfitted-level-2);\n",
       "}\n",
       "\n",
       "#sk-container-id-2 div.sk-label.fitted input.sk-toggleable__control:checked~label.sk-toggleable__label {\n",
       "  background-color: var(--sklearn-color-fitted-level-2);\n",
       "}\n",
       "\n",
       "/* Estimator-specific style */\n",
       "\n",
       "/* Colorize estimator box */\n",
       "#sk-container-id-2 div.sk-estimator input.sk-toggleable__control:checked~label.sk-toggleable__label {\n",
       "  /* unfitted */\n",
       "  background-color: var(--sklearn-color-unfitted-level-2);\n",
       "}\n",
       "\n",
       "#sk-container-id-2 div.sk-estimator.fitted input.sk-toggleable__control:checked~label.sk-toggleable__label {\n",
       "  /* fitted */\n",
       "  background-color: var(--sklearn-color-fitted-level-2);\n",
       "}\n",
       "\n",
       "#sk-container-id-2 div.sk-label label.sk-toggleable__label,\n",
       "#sk-container-id-2 div.sk-label label {\n",
       "  /* The background is the default theme color */\n",
       "  color: var(--sklearn-color-text-on-default-background);\n",
       "}\n",
       "\n",
       "/* On hover, darken the color of the background */\n",
       "#sk-container-id-2 div.sk-label:hover label.sk-toggleable__label {\n",
       "  color: var(--sklearn-color-text);\n",
       "  background-color: var(--sklearn-color-unfitted-level-2);\n",
       "}\n",
       "\n",
       "/* Label box, darken color on hover, fitted */\n",
       "#sk-container-id-2 div.sk-label.fitted:hover label.sk-toggleable__label.fitted {\n",
       "  color: var(--sklearn-color-text);\n",
       "  background-color: var(--sklearn-color-fitted-level-2);\n",
       "}\n",
       "\n",
       "/* Estimator label */\n",
       "\n",
       "#sk-container-id-2 div.sk-label label {\n",
       "  font-family: monospace;\n",
       "  font-weight: bold;\n",
       "  display: inline-block;\n",
       "  line-height: 1.2em;\n",
       "}\n",
       "\n",
       "#sk-container-id-2 div.sk-label-container {\n",
       "  text-align: center;\n",
       "}\n",
       "\n",
       "/* Estimator-specific */\n",
       "#sk-container-id-2 div.sk-estimator {\n",
       "  font-family: monospace;\n",
       "  border: 1px dotted var(--sklearn-color-border-box);\n",
       "  border-radius: 0.25em;\n",
       "  box-sizing: border-box;\n",
       "  margin-bottom: 0.5em;\n",
       "  /* unfitted */\n",
       "  background-color: var(--sklearn-color-unfitted-level-0);\n",
       "}\n",
       "\n",
       "#sk-container-id-2 div.sk-estimator.fitted {\n",
       "  /* fitted */\n",
       "  background-color: var(--sklearn-color-fitted-level-0);\n",
       "}\n",
       "\n",
       "/* on hover */\n",
       "#sk-container-id-2 div.sk-estimator:hover {\n",
       "  /* unfitted */\n",
       "  background-color: var(--sklearn-color-unfitted-level-2);\n",
       "}\n",
       "\n",
       "#sk-container-id-2 div.sk-estimator.fitted:hover {\n",
       "  /* fitted */\n",
       "  background-color: var(--sklearn-color-fitted-level-2);\n",
       "}\n",
       "\n",
       "/* Specification for estimator info (e.g. \"i\" and \"?\") */\n",
       "\n",
       "/* Common style for \"i\" and \"?\" */\n",
       "\n",
       ".sk-estimator-doc-link,\n",
       "a:link.sk-estimator-doc-link,\n",
       "a:visited.sk-estimator-doc-link {\n",
       "  float: right;\n",
       "  font-size: smaller;\n",
       "  line-height: 1em;\n",
       "  font-family: monospace;\n",
       "  background-color: var(--sklearn-color-background);\n",
       "  border-radius: 1em;\n",
       "  height: 1em;\n",
       "  width: 1em;\n",
       "  text-decoration: none !important;\n",
       "  margin-left: 0.5em;\n",
       "  text-align: center;\n",
       "  /* unfitted */\n",
       "  border: var(--sklearn-color-unfitted-level-1) 1pt solid;\n",
       "  color: var(--sklearn-color-unfitted-level-1);\n",
       "}\n",
       "\n",
       ".sk-estimator-doc-link.fitted,\n",
       "a:link.sk-estimator-doc-link.fitted,\n",
       "a:visited.sk-estimator-doc-link.fitted {\n",
       "  /* fitted */\n",
       "  border: var(--sklearn-color-fitted-level-1) 1pt solid;\n",
       "  color: var(--sklearn-color-fitted-level-1);\n",
       "}\n",
       "\n",
       "/* On hover */\n",
       "div.sk-estimator:hover .sk-estimator-doc-link:hover,\n",
       ".sk-estimator-doc-link:hover,\n",
       "div.sk-label-container:hover .sk-estimator-doc-link:hover,\n",
       ".sk-estimator-doc-link:hover {\n",
       "  /* unfitted */\n",
       "  background-color: var(--sklearn-color-unfitted-level-3);\n",
       "  color: var(--sklearn-color-background);\n",
       "  text-decoration: none;\n",
       "}\n",
       "\n",
       "div.sk-estimator.fitted:hover .sk-estimator-doc-link.fitted:hover,\n",
       ".sk-estimator-doc-link.fitted:hover,\n",
       "div.sk-label-container:hover .sk-estimator-doc-link.fitted:hover,\n",
       ".sk-estimator-doc-link.fitted:hover {\n",
       "  /* fitted */\n",
       "  background-color: var(--sklearn-color-fitted-level-3);\n",
       "  color: var(--sklearn-color-background);\n",
       "  text-decoration: none;\n",
       "}\n",
       "\n",
       "/* Span, style for the box shown on hovering the info icon */\n",
       ".sk-estimator-doc-link span {\n",
       "  display: none;\n",
       "  z-index: 9999;\n",
       "  position: relative;\n",
       "  font-weight: normal;\n",
       "  right: .2ex;\n",
       "  padding: .5ex;\n",
       "  margin: .5ex;\n",
       "  width: min-content;\n",
       "  min-width: 20ex;\n",
       "  max-width: 50ex;\n",
       "  color: var(--sklearn-color-text);\n",
       "  box-shadow: 2pt 2pt 4pt #999;\n",
       "  /* unfitted */\n",
       "  background: var(--sklearn-color-unfitted-level-0);\n",
       "  border: .5pt solid var(--sklearn-color-unfitted-level-3);\n",
       "}\n",
       "\n",
       ".sk-estimator-doc-link.fitted span {\n",
       "  /* fitted */\n",
       "  background: var(--sklearn-color-fitted-level-0);\n",
       "  border: var(--sklearn-color-fitted-level-3);\n",
       "}\n",
       "\n",
       ".sk-estimator-doc-link:hover span {\n",
       "  display: block;\n",
       "}\n",
       "\n",
       "/* \"?\"-specific style due to the `<a>` HTML tag */\n",
       "\n",
       "#sk-container-id-2 a.estimator_doc_link {\n",
       "  float: right;\n",
       "  font-size: 1rem;\n",
       "  line-height: 1em;\n",
       "  font-family: monospace;\n",
       "  background-color: var(--sklearn-color-background);\n",
       "  border-radius: 1rem;\n",
       "  height: 1rem;\n",
       "  width: 1rem;\n",
       "  text-decoration: none;\n",
       "  /* unfitted */\n",
       "  color: var(--sklearn-color-unfitted-level-1);\n",
       "  border: var(--sklearn-color-unfitted-level-1) 1pt solid;\n",
       "}\n",
       "\n",
       "#sk-container-id-2 a.estimator_doc_link.fitted {\n",
       "  /* fitted */\n",
       "  border: var(--sklearn-color-fitted-level-1) 1pt solid;\n",
       "  color: var(--sklearn-color-fitted-level-1);\n",
       "}\n",
       "\n",
       "/* On hover */\n",
       "#sk-container-id-2 a.estimator_doc_link:hover {\n",
       "  /* unfitted */\n",
       "  background-color: var(--sklearn-color-unfitted-level-3);\n",
       "  color: var(--sklearn-color-background);\n",
       "  text-decoration: none;\n",
       "}\n",
       "\n",
       "#sk-container-id-2 a.estimator_doc_link.fitted:hover {\n",
       "  /* fitted */\n",
       "  background-color: var(--sklearn-color-fitted-level-3);\n",
       "}\n",
       "</style><div id=\"sk-container-id-2\" class=\"sk-top-container\"><div class=\"sk-text-repr-fallback\"><pre>LinearRegression()</pre><b>In a Jupyter environment, please rerun this cell to show the HTML representation or trust the notebook. <br />On GitHub, the HTML representation is unable to render, please try loading this page with nbviewer.org.</b></div><div class=\"sk-container\" hidden><div class=\"sk-item\"><div class=\"sk-estimator fitted sk-toggleable\"><input class=\"sk-toggleable__control sk-hidden--visually\" id=\"sk-estimator-id-2\" type=\"checkbox\" checked><label for=\"sk-estimator-id-2\" class=\"sk-toggleable__label fitted sk-toggleable__label-arrow\"><div><div>LinearRegression</div></div><div><a class=\"sk-estimator-doc-link fitted\" rel=\"noreferrer\" target=\"_blank\" href=\"https://scikit-learn.org/1.6/modules/generated/sklearn.linear_model.LinearRegression.html\">?<span>Documentation for LinearRegression</span></a><span class=\"sk-estimator-doc-link fitted\">i<span>Fitted</span></span></div></label><div class=\"sk-toggleable__content fitted\"><pre>LinearRegression()</pre></div> </div></div></div></div>"
      ]
     },
     "execution_count": 67,
     "metadata": {},
     "output_type": "execute_result"
    }
   ],
   "execution_count": 67
  },
  {
   "cell_type": "code",
   "id": "c5f033959d7faeb0",
   "metadata": {
    "ExecuteTime": {
     "end_time": "2025-07-10T02:17:27.641327Z",
     "start_time": "2025-07-10T02:17:27.633906Z"
    }
   },
   "source": [
    "# model.intercept_, model.coef_\n",
    "model.intercept_, model.coef_"
   ],
   "outputs": [
    {
     "data": {
      "text/plain": [
       "(np.float64(1.3045301408383096),\n",
       " array([-1.54751452e-01,  4.60117401e-02,  1.78842718e-01,  1.15737092e-05,\n",
       "        -1.25384161e+00,  3.74746823e-01,  2.11069851e-01,  1.01482702e-01,\n",
       "         1.91294429e+00, -1.53158595e+00,  4.14956838e-02,  1.42776633e+00,\n",
       "         5.10123819e+00]))"
      ]
     },
     "execution_count": 68,
     "metadata": {},
     "output_type": "execute_result"
    }
   ],
   "execution_count": 68
  },
  {
   "cell_type": "code",
   "id": "595a8b8d1a7d7b27",
   "metadata": {
    "ExecuteTime": {
     "end_time": "2025-07-10T02:17:27.692203Z",
     "start_time": "2025-07-10T02:17:27.686330Z"
    }
   },
   "source": [
    "# y_pred = model.predict(X_test)\n",
    "y_pred = model.predict(X_test)"
   ],
   "outputs": [],
   "execution_count": 69
  },
  {
   "cell_type": "code",
   "id": "c6aa31e7fde6b187",
   "metadata": {
    "ExecuteTime": {
     "end_time": "2025-07-10T02:17:27.745303Z",
     "start_time": "2025-07-10T02:17:27.735193Z"
    }
   },
   "source": [
    "# from sklearn.metrics import mean_absolute_percentage_error\n",
    "from sklearn.metrics import mean_absolute_percentage_error\n",
    "# mean_absolute_percentage_error(y_test, y_pred)\n",
    "mean_absolute_percentage_error(y_test, y_pred)"
   ],
   "outputs": [
    {
     "data": {
      "text/plain": [
       "0.05713709530845481"
      ]
     },
     "execution_count": 70,
     "metadata": {},
     "output_type": "execute_result"
    }
   ],
   "execution_count": 70
  }
 ],
 "metadata": {
  "kernelspec": {
   "display_name": "Python 3",
   "language": "python",
   "name": "python3"
  },
  "language_info": {
   "codemirror_mode": {
    "name": "ipython",
    "version": 2
   },
   "file_extension": ".py",
   "mimetype": "text/x-python",
   "name": "python",
   "nbconvert_exporter": "python",
   "pygments_lexer": "ipython2",
   "version": "2.7.6"
  }
 },
 "nbformat": 4,
 "nbformat_minor": 5
}
